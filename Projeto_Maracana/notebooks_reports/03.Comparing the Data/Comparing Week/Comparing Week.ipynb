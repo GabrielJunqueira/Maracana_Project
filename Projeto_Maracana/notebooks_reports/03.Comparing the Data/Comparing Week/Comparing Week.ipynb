{
 "cells": [
  {
   "cell_type": "code",
   "execution_count": 1,
   "id": "8b3757db",
   "metadata": {},
   "outputs": [
    {
     "name": "stderr",
     "output_type": "stream",
     "text": [
      "C:\\Users\\gabri\\anaconda3\\lib\\site-packages\\scipy\\__init__.py:146: UserWarning: A NumPy version >=1.16.5 and <1.23.0 is required for this version of SciPy (detected version 1.24.1\n",
      "  warnings.warn(f\"A NumPy version >={np_minversion} and <{np_maxversion}\"\n"
     ]
    }
   ],
   "source": [
    "import pandas as pd\n",
    "import geopandas as gpd\n",
    "%matplotlib inline\n",
    "import numpy as np\n",
    "import seaborn as sns\n",
    "import matplotlib.pyplot as plt\n",
    "import folium"
   ]
  },
  {
   "cell_type": "markdown",
   "id": "595d66f5",
   "metadata": {},
   "source": [
    "# Getting the data"
   ]
  },
  {
   "cell_type": "code",
   "execution_count": 3,
   "id": "71f5934a",
   "metadata": {},
   "outputs": [],
   "source": [
    "region_map = gpd.read_file('../../../data/RIO DE JANEIRO MAPS/final_map/final_map2.geojson')"
   ]
  },
  {
   "cell_type": "markdown",
   "id": "400b0e73",
   "metadata": {},
   "source": [
    "## Match Day"
   ]
  },
  {
   "cell_type": "code",
   "execution_count": 5,
   "id": "154f1be7",
   "metadata": {},
   "outputs": [],
   "source": [
    "matchday = gpd.read_file('../../../data/trips_reports/adjusted data/matchday(20-4).geojson')"
   ]
  },
  {
   "cell_type": "markdown",
   "id": "b30d403e",
   "metadata": {},
   "source": [
    "## Other days of the week"
   ]
  },
  {
   "cell_type": "code",
   "execution_count": 7,
   "id": "f1f1508a",
   "metadata": {},
   "outputs": [],
   "source": [
    "sunday = pd.read_csv('../../../data/trips_reports/raw data/my_report(17-4).csv')\n",
    "monday = pd.read_csv('../../../data/trips_reports/raw data/my_report(18-4).csv')\n",
    "tuesday = pd.read_csv('../../../data/trips_reports/raw data/my_report(19-4).csv')\n",
    "thursday = pd.read_csv('../../../data/trips_reports/raw data/my_report(21-4).csv')\n",
    "friday = pd.read_csv('../../../data/trips_reports/raw data/my_report(22-4).csv')\n",
    "saturday = pd.read_csv('../../../data/trips_reports/raw data/my_report(23-4).csv')"
   ]
  },
  {
   "cell_type": "code",
   "execution_count": 8,
   "id": "8fb4e3d0",
   "metadata": {},
   "outputs": [],
   "source": [
    "def adjust1(csv):\n",
    "    csv = csv.sort_values(by='origin_id')\n",
    "    csv.reset_index(inplace=True)\n",
    "    csv = csv.drop(columns=['index'], axis=1)"
   ]
  },
  {
   "cell_type": "code",
   "execution_count": 10,
   "id": "1a7cdefe",
   "metadata": {},
   "outputs": [],
   "source": [
    "adjust1(sunday)\n",
    "adjust1(monday)\n",
    "adjust1(tuesday)\n",
    "adjust1(thursday)\n",
    "adjust1(friday)\n",
    "adjust1(saturday)"
   ]
  },
  {
   "cell_type": "code",
   "execution_count": 13,
   "id": "b8ccfffe",
   "metadata": {},
   "outputs": [],
   "source": [
    "#Function to normalize the \"total_trips\" column\n",
    "#total_trips is str and has some '<10' values\n",
    "def normalize(df):\n",
    "    for key, value in df[\"total_trips\"].iteritems():\n",
    "        if value == '<10':\n",
    "            df.at[key, 'total_trips'] = '5'\n",
    "    \n",
    "    df['total_trips'] = df['total_trips'].astype(float)"
   ]
  },
  {
   "cell_type": "code",
   "execution_count": 14,
   "id": "7f2ebeda",
   "metadata": {},
   "outputs": [
    {
     "name": "stderr",
     "output_type": "stream",
     "text": [
      "C:\\Users\\gabri\\AppData\\Local\\Temp\\ipykernel_5244\\1966558018.py:4: FutureWarning: iteritems is deprecated and will be removed in a future version. Use .items instead.\n",
      "  for key, value in df[\"total_trips\"].iteritems():\n"
     ]
    }
   ],
   "source": [
    "normalize(sunday)\n",
    "normalize(monday)\n",
    "normalize(tuesday)\n",
    "normalize(thursday)\n",
    "normalize(friday)\n",
    "normalize(saturday)"
   ]
  },
  {
   "cell_type": "code",
   "execution_count": 15,
   "id": "3c2155de",
   "metadata": {},
   "outputs": [],
   "source": [
    "def adjust2(csv, df):\n",
    "    day_region = pd.merge(df, csv, how='left', left_on=['ID'], right_on=['origin_id'])\n",
    "    day_region = day_region[:183]\n",
    "    day_region.at[182, 'total_trips'] = 0\n",
    "    day_region.fillna(0, inplace=True)\n",
    "    return(day_region)"
   ]
  },
  {
   "cell_type": "code",
   "execution_count": 18,
   "id": "25cc6b21",
   "metadata": {},
   "outputs": [],
   "source": [
    "sunday_region = adjust2(sunday, region_map)\n",
    "monday_region = adjust2(monday, region_map)\n",
    "tuesday_region = adjust2(tuesday, region_map)\n",
    "thursday_region = adjust2(thursday, region_map)\n",
    "friday_region = adjust2(friday, region_map)\n",
    "saturday_region = adjust2(saturday, region_map)"
   ]
  },
  {
   "cell_type": "markdown",
   "id": "0abfcfc0",
   "metadata": {},
   "source": [
    "# Plotting"
   ]
  },
  {
   "cell_type": "code",
   "execution_count": 33,
   "id": "3c145c5e",
   "metadata": {},
   "outputs": [
    {
     "data": {
      "text/plain": [
       "<Figure size 1440x1296 with 0 Axes>"
      ]
     },
     "execution_count": 33,
     "metadata": {},
     "output_type": "execute_result"
    },
    {
     "data": {
      "image/png": "[encoded data removed]",
      "text/plain": [
       "<Figure size 432x288 with 1 Axes>"
      ]
     },
     "metadata": {
      "needs_background": "light"
     },
     "output_type": "display_data"
    },
    {
     "data": {
      "text/plain": [
       "<Figure size 1440x1296 with 0 Axes>"
      ]
     },
     "metadata": {},
     "output_type": "display_data"
    }
   ],
   "source": [
    "import matplotlib.pyplot as plt\n",
    "\n",
    "# Data to be plotted\n",
    "value1 = int(matchday['total_trips'].sum())\n",
    "value2 = int(sunday_region['total_trips'].sum())\n",
    "value3 = int(monday_region['total_trips'].sum())\n",
    "value4 = int(tuesday_region['total_trips'].sum())\n",
    "value5 = int(thursday_region['total_trips'].sum())\n",
    "value6 = int(friday_region['total_trips'].sum())\n",
    "value7 = int(saturday_region['total_trips'].sum())\n",
    "\n",
    "# Creating the bar chart\n",
    "bar_width = 0.4\n",
    "bar1 = plt.bar(1 + bar_width, value1, bar_width)\n",
    "bar2 = plt.bar(2 + bar_width, value2, bar_width)\n",
    "bar3 = plt.bar(3 + bar_width, value3, bar_width)\n",
    "bar4 = plt.bar(4 + bar_width, value4, bar_width)\n",
    "bar5 = plt.bar(5 + bar_width, value5, bar_width)\n",
    "bar6 = plt.bar(6 + bar_width, value6, bar_width)\n",
    "bar7 = plt.bar(7 + bar_width, value7, bar_width)\n",
    "\n",
    "# Adding labels and title\n",
    "plt.ylabel('Trips to the stadium area')\n",
    "plt.title('Comparison of Days')\n",
    "plt.xticks([4.2+ bar_width/2], ['Days'])\n",
    "\n",
    "# Adding legend\n",
    "plt.legend((bar1[0], bar2[0], bar3[0], bar4[0], bar5[0], bar6[0], bar7[0]), \n",
    "           ('Sunday', 'Monday', 'Tuesday', 'Wednesday', 'Thursday', 'Friday', 'Saturday'), fontsize='x-small')\n",
    "\n",
    "# Show the chart\n",
    "plt.figure(figsize=(20,18))"
   ]
  },
  {
   "cell_type": "code",
   "execution_count": null,
   "id": "2a88276e",
   "metadata": {},
   "outputs": [],
   "source": []
  }
 ],
 "metadata": {
  "kernelspec": {
   "display_name": "Python 3 (ipykernel)",
   "language": "python",
   "name": "python3"
  },
  "language_info": {
   "codemirror_mode": {
    "name": "ipython",
    "version": 3
   },
   "file_extension": ".py",
   "mimetype": "text/x-python",
   "name": "python",
   "nbconvert_exporter": "python",
   "pygments_lexer": "ipython3",
   "version": "3.9.12"
  }
 },
 "nbformat": 4,
 "nbformat_minor": 5
}

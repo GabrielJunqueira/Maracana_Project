{
 "cells": [
  {
   "cell_type": "code",
   "execution_count": 2,
   "id": "f41d7db3",
   "metadata": {},
   "outputs": [
    {
     "name": "stderr",
     "output_type": "stream",
     "text": [
      "C:\\Users\\gabri\\anaconda3\\lib\\site-packages\\scipy\\__init__.py:146: UserWarning: A NumPy version >=1.16.5 and <1.23.0 is required for this version of SciPy (detected version 1.23.4\n",
      "  warnings.warn(f\"A NumPy version >={np_minversion} and <{np_maxversion}\"\n"
     ]
    }
   ],
   "source": [
    "import pandas as pd\n",
    "import geopandas as gpd\n",
    "%matplotlib inline\n",
    "import numpy as np\n",
    "import seaborn as sns\n",
    "import matplotlib.pyplot as plt\n",
    "import folium"
   ]
  },
  {
   "cell_type": "markdown",
   "id": "be395c35",
   "metadata": {},
   "source": [
    "# Getting the data"
   ]
  },
  {
   "cell_type": "code",
   "execution_count": 3,
   "id": "a3d6db07",
   "metadata": {},
   "outputs": [],
   "source": [
    "region_map = gpd.read_file('../../data/RIO DE JANEIRO MAPS/final_map/final_map2.geojson')"
   ]
  },
  {
   "cell_type": "markdown",
   "id": "9716e37c",
   "metadata": {},
   "source": [
    "## MatchDay"
   ]
  },
  {
   "cell_type": "code",
   "execution_count": 4,
   "id": "92453c12",
   "metadata": {},
   "outputs": [],
   "source": [
    "matchday = gpd.read_file('../../data/trips_reports/adjusted data/matchday(20-4).geojson')"
   ]
  },
  {
   "cell_type": "markdown",
   "id": "9815afa8",
   "metadata": {},
   "source": [
    "## Days before and after"
   ]
  },
  {
   "cell_type": "code",
   "execution_count": 5,
   "id": "42db56b9",
   "metadata": {},
   "outputs": [],
   "source": [
    "day_before = pd.read_csv('../../data/trips_reports/raw data/my_report(19-4).csv')"
   ]
  },
  {
   "cell_type": "code",
   "execution_count": 6,
   "id": "9327b952",
   "metadata": {},
   "outputs": [],
   "source": [
    "day_after = pd.read_csv('../../data/trips_reports/raw data/my_report(21-4).csv')"
   ]
  },
  {
   "cell_type": "code",
   "execution_count": 7,
   "id": "08363cdb",
   "metadata": {},
   "outputs": [],
   "source": [
    "day_before = day_before.sort_values(by='origin_id')\n",
    "day_before.reset_index(inplace=True)\n",
    "day_before = day_before.drop(columns=['index'], axis=1)"
   ]
  },
  {
   "cell_type": "code",
   "execution_count": 8,
   "id": "a41070c6",
   "metadata": {},
   "outputs": [],
   "source": [
    "day_after = day_after.sort_values(by='origin_id')\n",
    "day_after.reset_index(inplace=True)\n",
    "day_after= day_after.drop(columns=['index'], axis=1)"
   ]
  },
  {
   "cell_type": "code",
   "execution_count": 9,
   "id": "c15564d0",
   "metadata": {},
   "outputs": [],
   "source": [
    "#Function to normalize the \"total_trips\" column\n",
    "#total_trips is str and has some '<10' values\n",
    "def normalize(df):\n",
    "    for key, value in df[\"total_trips\"].iteritems():\n",
    "        if value == '<10':\n",
    "            df.at[key, 'total_trips'] = '5'\n",
    "    \n",
    "    df['total_trips'] = df['total_trips'].astype(float)\n",
    "    print(df['total_trips'].sum())"
   ]
  },
  {
   "cell_type": "code",
   "execution_count": 10,
   "id": "d6651e72",
   "metadata": {},
   "outputs": [
    {
     "name": "stdout",
     "output_type": "stream",
     "text": [
      "556795.94\n",
      "264669.67000000004\n"
     ]
    },
    {
     "name": "stderr",
     "output_type": "stream",
     "text": [
      "C:\\Users\\gabri\\AppData\\Local\\Temp\\ipykernel_16696\\3283907314.py:4: FutureWarning: iteritems is deprecated and will be removed in a future version. Use .items instead.\n",
      "  for key, value in df[\"total_trips\"].iteritems():\n"
     ]
    }
   ],
   "source": [
    "normalize(day_before)\n",
    "normalize(day_after)"
   ]
  },
  {
   "cell_type": "code",
   "execution_count": 11,
   "id": "032c9b8b",
   "metadata": {},
   "outputs": [],
   "source": [
    "#merging match_day with region_map\n",
    "bef_region = pd.merge(region_map, day_before, how='left', left_on=['ID'], right_on=['origin_id'])\n",
    "aft_region = pd.merge(region_map, day_after, how='left', left_on=['ID'], right_on=['origin_id'])"
   ]
  },
  {
   "cell_type": "code",
   "execution_count": 12,
   "id": "677917c6",
   "metadata": {},
   "outputs": [],
   "source": [
    "#removing stadium as a origin rows\n",
    "bef_region = bef_region[:183]\n",
    "aft_region = aft_region[:183]"
   ]
  },
  {
   "cell_type": "code",
   "execution_count": 13,
   "id": "68211a8e",
   "metadata": {},
   "outputs": [],
   "source": [
    "#removing trips inside stadium area\n",
    "bef_region.at[182, 'total_trips'] = 0\n",
    "aft_region.at[182, 'total_trips'] = 0"
   ]
  },
  {
   "cell_type": "code",
   "execution_count": 14,
   "id": "a853c833",
   "metadata": {},
   "outputs": [],
   "source": [
    "#filling the NaN spaces \n",
    "bef_region.fillna(0, inplace=True)\n",
    "aft_region.fillna(0, inplace=True)"
   ]
  },
  {
   "cell_type": "markdown",
   "id": "8edaef26",
   "metadata": {},
   "source": [
    "# Exploring the data"
   ]
  },
  {
   "cell_type": "code",
   "execution_count": 15,
   "id": "1e1a6272",
   "metadata": {},
   "outputs": [],
   "source": [
    "trips_matchday = int(matchday['total_trips'].sum())\n",
    "trips_daybefore = int(bef_region['total_trips'].sum())\n",
    "trips_dayafter = int(aft_region['total_trips'].sum())"
   ]
  },
  {
   "cell_type": "code",
   "execution_count": 16,
   "id": "b454690e",
   "metadata": {},
   "outputs": [],
   "source": [
    "import statistics\n",
    "mean_normal_days = statistics.mean([trips_daybefore, trips_dayafter])"
   ]
  },
  {
   "cell_type": "code",
   "execution_count": 17,
   "id": "eff657ba",
   "metadata": {},
   "outputs": [
    {
     "name": "stdout",
     "output_type": "stream",
     "text": [
      "Trips during the match day: 252534\n",
      "Average trips for the day before and the day after: 169780.5\n"
     ]
    }
   ],
   "source": [
    "print(\"Trips during the match day: \" + str(trips_matchday) + '\\n' \n",
    "      + \"Average trips for the day before and the day after: \" + str(mean_normal_days))"
   ]
  },
  {
   "cell_type": "markdown",
   "id": "6793b8b1",
   "metadata": {},
   "source": [
    "## Plotting"
   ]
  },
  {
   "cell_type": "code",
   "execution_count": 18,
   "id": "fb4d81a2",
   "metadata": {},
   "outputs": [
    {
     "data": {
      "text/plain": [
       "<Figure size 1440x1296 with 0 Axes>"
      ]
     },
     "execution_count": 18,
     "metadata": {},
     "output_type": "execute_result"
    },
    {
     "data": {
      "image/png": "[encoded data removed]",
      "text/plain": [
       "<Figure size 432x288 with 1 Axes>"
      ]
     },
     "metadata": {
      "needs_background": "light"
     },
     "output_type": "display_data"
    },
    {
     "data": {
      "text/plain": [
       "<Figure size 1440x1296 with 0 Axes>"
      ]
     },
     "metadata": {},
     "output_type": "display_data"
    }
   ],
   "source": [
    "import matplotlib.pyplot as plt\n",
    "\n",
    "# Data to be plotted\n",
    "value1 = trips_matchday\n",
    "value2 = mean_normal_days\n",
    "\n",
    "# Creating the bar chart\n",
    "bar_width = 0.4\n",
    "bar1 = plt.bar(1, value1, bar_width)\n",
    "bar2 = plt.bar(1 + bar_width, value2, bar_width)\n",
    "\n",
    "# Adding labels and title\n",
    "plt.ylabel('Trips to the stadium area')\n",
    "plt.title('Comparison of Days')\n",
    "plt.xticks([1 + bar_width/2], ['Days'])\n",
    "\n",
    "# Adding legend\n",
    "plt.legend((bar1[0], bar2[0]), ('Match day (20/4)', 'Average no match days'))\n",
    "\n",
    "# Show the chart\n",
    "plt.figure(figsize=(20,18))"
   ]
  },
  {
   "cell_type": "code",
   "execution_count": 147,
   "id": "f9970ed7",
   "metadata": {},
   "outputs": [
    {
     "name": "stdout",
     "output_type": "stream",
     "text": [
      "Difference between Average and Match day: 82753.5\n"
     ]
    }
   ],
   "source": [
    "print(\"Difference between Average and Match day: \" + str(trips_matchday - mean_normal_days))"
   ]
  }
 ],
 "metadata": {
  "kernelspec": {
   "display_name": "Python 3 (ipykernel)",
   "language": "python",
   "name": "python3"
  },
  "language_info": {
   "codemirror_mode": {
    "name": "ipython",
    "version": 3
   },
   "file_extension": ".py",
   "mimetype": "text/x-python",
   "name": "python",
   "nbconvert_exporter": "python",
   "pygments_lexer": "ipython3",
   "version": "3.9.12"
  }
 },
 "nbformat": 4,
 "nbformat_minor": 5
}

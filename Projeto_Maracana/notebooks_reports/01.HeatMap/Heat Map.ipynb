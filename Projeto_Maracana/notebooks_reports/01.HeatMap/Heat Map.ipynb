{
 "cells": [
  {
   "cell_type": "code",
   "execution_count": 1,
   "id": "b0ff6669",
   "metadata": {},
   "outputs": [
    {
     "name": "stderr",
     "output_type": "stream",
     "text": [
      "C:\\Users\\gabri\\anaconda3\\lib\\site-packages\\scipy\\__init__.py:146: UserWarning: A NumPy version >=1.16.5 and <1.23.0 is required for this version of SciPy (detected version 1.24.1\n",
      "  warnings.warn(f\"A NumPy version >={np_minversion} and <{np_maxversion}\"\n"
     ]
    }
   ],
   "source": [
    "import pandas as pd\n",
    "import geopandas as gpd\n",
    "%matplotlib inline\n",
    "import numpy as np\n",
    "import seaborn as sns\n",
    "import matplotlib.pyplot as plt\n",
    "import folium"
   ]
  },
  {
   "cell_type": "code",
   "execution_count": 8,
   "id": "76e373d8",
   "metadata": {},
   "outputs": [],
   "source": [
    "match_day = pd.read_csv('../../data/trips_reports/raw data/my_report_matchday(20-4).csv') #from claro-br.kidodynamics\n",
    "region_map = gpd.read_file('../../data/RIO DE JANEIRO MAPS/final_map/final_map2.geojson')"
   ]
  },
  {
   "cell_type": "markdown",
   "id": "980d65ce",
   "metadata": {},
   "source": [
    "## Centroid"
   ]
  },
  {
   "cell_type": "code",
   "execution_count": 4,
   "id": "4869f624",
   "metadata": {},
   "outputs": [
    {
     "name": "stderr",
     "output_type": "stream",
     "text": [
      "C:\\Users\\gabri\\AppData\\Local\\Temp\\ipykernel_16372\\2836198186.py:1: UserWarning: Geometry is in a geographic CRS. Results from 'centroid' are likely incorrect. Use 'GeoSeries.to_crs()' to re-project geometries to a projected CRS before this operation.\n",
      "\n",
      "  y = region_map.centroid.y.iloc[0]\n"
     ]
    },
    {
     "data": {
      "text/plain": [
       "-22.72906184797807"
      ]
     },
     "execution_count": 4,
     "metadata": {},
     "output_type": "execute_result"
    }
   ],
   "source": [
    "y = region_map.centroid.y.iloc[0]\n",
    "y"
   ]
  },
  {
   "cell_type": "code",
   "execution_count": 5,
   "id": "2a400241",
   "metadata": {},
   "outputs": [
    {
     "name": "stderr",
     "output_type": "stream",
     "text": [
      "C:\\Users\\gabri\\AppData\\Local\\Temp\\ipykernel_16372\\566618580.py:1: UserWarning: Geometry is in a geographic CRS. Results from 'centroid' are likely incorrect. Use 'GeoSeries.to_crs()' to re-project geometries to a projected CRS before this operation.\n",
      "\n",
      "  x = region_map.centroid.x.iloc[0]\n"
     ]
    },
    {
     "data": {
      "text/plain": [
       "-43.37687006952975"
      ]
     },
     "execution_count": 5,
     "metadata": {},
     "output_type": "execute_result"
    }
   ],
   "source": [
    "x = region_map.centroid.x.iloc[0]\n",
    "x"
   ]
  },
  {
   "cell_type": "markdown",
   "id": "6bfb20b6",
   "metadata": {},
   "source": [
    "## HeatMap"
   ]
  },
  {
   "cell_type": "code",
   "execution_count": 9,
   "id": "d59f9669",
   "metadata": {},
   "outputs": [],
   "source": [
    "#Function to normalize the \"total_trips\" column\n",
    "#total_trips is str and has some '<10' values\n",
    "def normalize(df):\n",
    "    for key, value in df[\"total_trips\"].iteritems():\n",
    "        if value == '<10':\n",
    "            df.at[key, 'total_trips'] = '5'\n",
    "    \n",
    "    df['total_trips'] = df['total_trips'].astype(float)\n",
    "    print(df['total_trips'].sum())"
   ]
  },
  {
   "cell_type": "code",
   "execution_count": 10,
   "id": "450ad73d",
   "metadata": {},
   "outputs": [
    {
     "name": "stdout",
     "output_type": "stream",
     "text": [
      "585672.79\n"
     ]
    },
    {
     "name": "stderr",
     "output_type": "stream",
     "text": [
      "C:\\Users\\gabri\\AppData\\Local\\Temp\\ipykernel_16372\\3283907314.py:4: FutureWarning: iteritems is deprecated and will be removed in a future version. Use .items instead.\n",
      "  for key, value in df[\"total_trips\"].iteritems():\n"
     ]
    }
   ],
   "source": [
    "normalize(match_day)"
   ]
  },
  {
   "cell_type": "code",
   "execution_count": 11,
   "id": "6c34cbdd",
   "metadata": {},
   "outputs": [],
   "source": [
    "#merging match_day with region_map\n",
    "match_region = pd.merge(region_map, match_day, how='left', left_on=['ID'], right_on=['origin_id'])"
   ]
  },
  {
   "cell_type": "code",
   "execution_count": 12,
   "id": "2d04ea79",
   "metadata": {},
   "outputs": [],
   "source": [
    "#removing stadium as a origin rows\n",
    "match_region = match_region[:183]"
   ]
  },
  {
   "cell_type": "code",
   "execution_count": 13,
   "id": "750f7c1f",
   "metadata": {},
   "outputs": [],
   "source": [
    "#removing trips inside stadium area\n",
    "match_region.at[182, 'total_trips'] = 0"
   ]
  },
  {
   "cell_type": "code",
   "execution_count": 14,
   "id": "28fdf8fc",
   "metadata": {},
   "outputs": [],
   "source": [
    "#filling the NaN spaces \n",
    "match_region.fillna(0, inplace=True)"
   ]
  },
  {
   "cell_type": "code",
   "execution_count": 15,
   "id": "c8f8ee44",
   "metadata": {},
   "outputs": [
    {
     "data": {
      "text/html": [
       "<div>\n",
       "<style scoped>\n",
       "    .dataframe tbody tr th:only-of-type {\n",
       "        vertical-align: middle;\n",
       "    }\n",
       "\n",
       "    .dataframe tbody tr th {\n",
       "        vertical-align: top;\n",
       "    }\n",
       "\n",
       "    .dataframe thead th {\n",
       "        text-align: right;\n",
       "    }\n",
       "</style>\n",
       "<table border=\"1\" class=\"dataframe\">\n",
       "  <thead>\n",
       "    <tr style=\"text-align: right;\">\n",
       "      <th></th>\n",
       "      <th>ID</th>\n",
       "      <th>name</th>\n",
       "      <th>poly_type</th>\n",
       "      <th>geometry</th>\n",
       "      <th>origin_id</th>\n",
       "      <th>destination_id</th>\n",
       "      <th>total_trips</th>\n",
       "    </tr>\n",
       "  </thead>\n",
       "  <tbody>\n",
       "    <tr>\n",
       "      <th>0</th>\n",
       "      <td>0</td>\n",
       "      <td>BELFORD ROXO</td>\n",
       "      <td>periphery</td>\n",
       "      <td>POLYGON ((-43.37030 -22.69426, -43.37009 -22.6...</td>\n",
       "      <td>0.0</td>\n",
       "      <td>182.0</td>\n",
       "      <td>2733.67</td>\n",
       "    </tr>\n",
       "    <tr>\n",
       "      <th>1</th>\n",
       "      <td>1</td>\n",
       "      <td>CACHOEIRAS DE MACACU</td>\n",
       "      <td>periphery</td>\n",
       "      <td>POLYGON ((-42.79038 -22.37813, -42.78943 -22.3...</td>\n",
       "      <td>1.0</td>\n",
       "      <td>182.0</td>\n",
       "      <td>20.38</td>\n",
       "    </tr>\n",
       "    <tr>\n",
       "      <th>2</th>\n",
       "      <td>2</td>\n",
       "      <td>DUQUE DE CAXIAS</td>\n",
       "      <td>periphery</td>\n",
       "      <td>POLYGON ((-43.41519 -22.60109, -43.41566 -22.6...</td>\n",
       "      <td>2.0</td>\n",
       "      <td>182.0</td>\n",
       "      <td>9404.40</td>\n",
       "    </tr>\n",
       "    <tr>\n",
       "      <th>3</th>\n",
       "      <td>3</td>\n",
       "      <td>GUAPIMIRIM</td>\n",
       "      <td>periphery</td>\n",
       "      <td>POLYGON ((-42.95809 -22.46615, -42.95703 -22.4...</td>\n",
       "      <td>3.0</td>\n",
       "      <td>182.0</td>\n",
       "      <td>142.31</td>\n",
       "    </tr>\n",
       "    <tr>\n",
       "      <th>4</th>\n",
       "      <td>4</td>\n",
       "      <td>ITABORAÍ</td>\n",
       "      <td>periphery</td>\n",
       "      <td>POLYGON ((-42.94340 -22.70671, -42.94301 -22.7...</td>\n",
       "      <td>4.0</td>\n",
       "      <td>182.0</td>\n",
       "      <td>613.65</td>\n",
       "    </tr>\n",
       "  </tbody>\n",
       "</table>\n",
       "</div>"
      ],
      "text/plain": [
       "   ID                  name  poly_type  \\\n",
       "0   0          BELFORD ROXO  periphery   \n",
       "1   1  CACHOEIRAS DE MACACU  periphery   \n",
       "2   2       DUQUE DE CAXIAS  periphery   \n",
       "3   3            GUAPIMIRIM  periphery   \n",
       "4   4              ITABORAÍ  periphery   \n",
       "\n",
       "                                            geometry  origin_id  \\\n",
       "0  POLYGON ((-43.37030 -22.69426, -43.37009 -22.6...        0.0   \n",
       "1  POLYGON ((-42.79038 -22.37813, -42.78943 -22.3...        1.0   \n",
       "2  POLYGON ((-43.41519 -22.60109, -43.41566 -22.6...        2.0   \n",
       "3  POLYGON ((-42.95809 -22.46615, -42.95703 -22.4...        3.0   \n",
       "4  POLYGON ((-42.94340 -22.70671, -42.94301 -22.7...        4.0   \n",
       "\n",
       "   destination_id  total_trips  \n",
       "0           182.0      2733.67  \n",
       "1           182.0        20.38  \n",
       "2           182.0      9404.40  \n",
       "3           182.0       142.31  \n",
       "4           182.0       613.65  "
      ]
     },
     "execution_count": 15,
     "metadata": {},
     "output_type": "execute_result"
    }
   ],
   "source": [
    "match_region.head(5)"
   ]
  },
  {
   "cell_type": "code",
   "execution_count": 20,
   "id": "3382ff8b",
   "metadata": {},
   "outputs": [],
   "source": [
    "#saving the adjusted data\n",
    "import os\n",
    "dir = '../../data/trips_reports/adjusted data'\n",
    "\n",
    "if not os.path.exists(dir): \n",
    "    os.makedirs(dir)\n",
    "#se essa pasta não existir, crio ela"
   ]
  },
  {
   "cell_type": "code",
   "execution_count": 21,
   "id": "58e25401",
   "metadata": {},
   "outputs": [],
   "source": [
    "match_region.to_file(dir + '/matchday(20-4).geojson')"
   ]
  },
  {
   "cell_type": "code",
   "execution_count": 22,
   "id": "ae69421e",
   "metadata": {},
   "outputs": [],
   "source": [
    "data = []\n",
    "for i in range(len(match_region)):\n",
    "    data.append([match_region['geometry'][i].centroid.y,\n",
    "                 match_region['geometry'][i].centroid.x,\n",
    "                 match_region['total_trips'][i]])\n",
    "\n",
    "#data = [[lon1, lat1, total_trips1],[lon2, lat2, total_trips2], ...]"
   ]
  },
  {
   "cell_type": "markdown",
   "id": "d6fac3f3",
   "metadata": {},
   "source": [
    "### Creating the Heat Map using Folium plugin"
   ]
  },
  {
   "cell_type": "code",
   "execution_count": 23,
   "id": "c34f1fcd",
   "metadata": {},
   "outputs": [],
   "source": [
    "from folium.plugins import HeatMap\n",
    "\n",
    "base = folium.Map([y, x], zoom_start = 11, tiles = 'OpenStreetMap')\n",
    "\n",
    "HeatMap(data, name=\"Origin of the trips\").add_to(base)\n",
    "\n",
    "folium.LayerControl().add_to(base)\n",
    "\n",
    "base.save('HeatMap.html')"
   ]
  },
  {
   "cell_type": "code",
   "execution_count": null,
   "id": "d230dc0b",
   "metadata": {},
   "outputs": [],
   "source": []
  }
 ],
 "metadata": {
  "kernelspec": {
   "display_name": "Python 3 (ipykernel)",
   "language": "python",
   "name": "python3"
  },
  "language_info": {
   "codemirror_mode": {
    "name": "ipython",
    "version": 3
   },
   "file_extension": ".py",
   "mimetype": "text/x-python",
   "name": "python",
   "nbconvert_exporter": "python",
   "pygments_lexer": "ipython3",
   "version": "3.9.12"
  }
 },
 "nbformat": 4,
 "nbformat_minor": 5
}

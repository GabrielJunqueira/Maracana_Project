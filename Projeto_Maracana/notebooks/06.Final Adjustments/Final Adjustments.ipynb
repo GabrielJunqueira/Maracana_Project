{
 "cells": [
  {
   "cell_type": "code",
   "execution_count": 194,
   "id": "6c93ce3c",
   "metadata": {},
   "outputs": [],
   "source": [
    "import pandas as pd\n",
    "import geopandas as gpd\n",
    "%matplotlib inline\n",
    "import osmnx as ox\n",
    "import networkx as nx\n",
    "from shapely.geometry import Point, LineString, Polygon\n",
    "import itertools\n",
    "import numpy as np"
   ]
  },
  {
   "cell_type": "code",
   "execution_count": 195,
   "id": "df7bde5a",
   "metadata": {},
   "outputs": [],
   "source": [
    "final_map = gpd.read_file('../../data/RIO DE JANEIRO MAPS/final_map/final_map.geojson')"
   ]
  },
  {
   "cell_type": "markdown",
   "id": "7ba6a5ba",
   "metadata": {},
   "source": [
    "## creating the ID column\n"
   ]
  },
  {
   "cell_type": "code",
   "execution_count": 196,
   "id": "60fce263",
   "metadata": {},
   "outputs": [],
   "source": [
    "#creating the ID column\n",
    "final_map['ID'] = np.arange(len(final_map))\n",
    "final_map.set_index('ID', inplace=True)"
   ]
  },
  {
   "cell_type": "markdown",
   "id": "23dee599",
   "metadata": {},
   "source": [
    "## creating the Type column"
   ]
  },
  {
   "cell_type": "code",
   "execution_count": 197,
   "id": "665d4609",
   "metadata": {},
   "outputs": [],
   "source": [
    "#creating the Type column\n",
    "final_map['Type'] = 'periphery'\n",
    "\n",
    "#defining the ameba as 'core'\n",
    "final_map.at[182, 'Type'] = 'core'"
   ]
  },
  {
   "cell_type": "markdown",
   "id": "b4b32c4e",
   "metadata": {},
   "source": [
    "## creating the Name column\n",
    " "
   ]
  },
  {
   "cell_type": "code",
   "execution_count": 198,
   "id": "cefbfcdc",
   "metadata": {},
   "outputs": [],
   "source": [
    "#creating the Name column\n",
    "final_map['Name'] = final_map['NM_BAIRRO_2']\n",
    "#problematic row\n",
    "final_map.at[21, 'Name'] = 'Mangueira'"
   ]
  },
  {
   "cell_type": "code",
   "execution_count": 199,
   "id": "e468e379",
   "metadata": {},
   "outputs": [],
   "source": [
    "final_map = final_map.drop('NM_BAIRRO_1', axis=1)\n",
    "final_map = final_map.drop('NM_BAIRRO_2', axis=1)"
   ]
  },
  {
   "cell_type": "code",
   "execution_count": 200,
   "id": "bccc0889",
   "metadata": {},
   "outputs": [],
   "source": [
    "final_map.at[182, 'Name'] = 'STADIUM AREA'"
   ]
  },
  {
   "cell_type": "code",
   "execution_count": 201,
   "id": "7f91ea3b",
   "metadata": {},
   "outputs": [],
   "source": [
    "column_list = final_map[\"NM_MUNICIP\"].head(20).values.tolist()"
   ]
  },
  {
   "cell_type": "code",
   "execution_count": 202,
   "id": "1bb8cb2b",
   "metadata": {},
   "outputs": [],
   "source": [
    "for i in range(20):\n",
    "    final_map.at[i, 'Name'] = column_list[i]\n",
    "    \n",
    "final_map.at[20, 'Name'] = 'TANGUÁ'"
   ]
  },
  {
   "cell_type": "code",
   "execution_count": 203,
   "id": "2f6ceac8",
   "metadata": {},
   "outputs": [],
   "source": [
    "final_map = final_map.drop('NM_MUNICIP', axis=1)"
   ]
  },
  {
   "cell_type": "code",
   "execution_count": 204,
   "id": "fc30a89c",
   "metadata": {},
   "outputs": [
    {
     "data": {
      "text/html": [
       "<div>\n",
       "<style scoped>\n",
       "    .dataframe tbody tr th:only-of-type {\n",
       "        vertical-align: middle;\n",
       "    }\n",
       "\n",
       "    .dataframe tbody tr th {\n",
       "        vertical-align: top;\n",
       "    }\n",
       "\n",
       "    .dataframe thead th {\n",
       "        text-align: right;\n",
       "    }\n",
       "</style>\n",
       "<table border=\"1\" class=\"dataframe\">\n",
       "  <thead>\n",
       "    <tr style=\"text-align: right;\">\n",
       "      <th></th>\n",
       "      <th>name</th>\n",
       "      <th>poly_type</th>\n",
       "      <th>geometry</th>\n",
       "    </tr>\n",
       "    <tr>\n",
       "      <th>ID</th>\n",
       "      <th></th>\n",
       "      <th></th>\n",
       "      <th></th>\n",
       "    </tr>\n",
       "  </thead>\n",
       "  <tbody>\n",
       "    <tr>\n",
       "      <th>0</th>\n",
       "      <td>BELFORD ROXO</td>\n",
       "      <td>periphery</td>\n",
       "      <td>POLYGON ((-43.37030 -22.69426, -43.37009 -22.6...</td>\n",
       "    </tr>\n",
       "    <tr>\n",
       "      <th>1</th>\n",
       "      <td>CACHOEIRAS DE MACACU</td>\n",
       "      <td>periphery</td>\n",
       "      <td>POLYGON ((-42.79038 -22.37813, -42.78943 -22.3...</td>\n",
       "    </tr>\n",
       "    <tr>\n",
       "      <th>2</th>\n",
       "      <td>DUQUE DE CAXIAS</td>\n",
       "      <td>periphery</td>\n",
       "      <td>POLYGON ((-43.41519 -22.60109, -43.41566 -22.6...</td>\n",
       "    </tr>\n",
       "    <tr>\n",
       "      <th>3</th>\n",
       "      <td>GUAPIMIRIM</td>\n",
       "      <td>periphery</td>\n",
       "      <td>POLYGON ((-42.95809 -22.46615, -42.95703 -22.4...</td>\n",
       "    </tr>\n",
       "    <tr>\n",
       "      <th>4</th>\n",
       "      <td>ITABORAÍ</td>\n",
       "      <td>periphery</td>\n",
       "      <td>POLYGON ((-42.94340 -22.70671, -42.94301 -22.7...</td>\n",
       "    </tr>\n",
       "    <tr>\n",
       "      <th>...</th>\n",
       "      <td>...</td>\n",
       "      <td>...</td>\n",
       "      <td>...</td>\n",
       "    </tr>\n",
       "    <tr>\n",
       "      <th>178</th>\n",
       "      <td>Vila da Penha</td>\n",
       "      <td>periphery</td>\n",
       "      <td>POLYGON ((-43.31466 -22.84846, -43.31551 -22.8...</td>\n",
       "    </tr>\n",
       "    <tr>\n",
       "      <th>179</th>\n",
       "      <td>Vista Alegre</td>\n",
       "      <td>periphery</td>\n",
       "      <td>POLYGON ((-43.31923 -22.83183, -43.31931 -22.8...</td>\n",
       "    </tr>\n",
       "    <tr>\n",
       "      <th>180</th>\n",
       "      <td>Zumbi</td>\n",
       "      <td>periphery</td>\n",
       "      <td>POLYGON ((-43.17556 -22.82367, -43.17560 -22.8...</td>\n",
       "    </tr>\n",
       "    <tr>\n",
       "      <th>181</th>\n",
       "      <td>Água Santa</td>\n",
       "      <td>periphery</td>\n",
       "      <td>POLYGON ((-43.30348 -22.91473, -43.30400 -22.9...</td>\n",
       "    </tr>\n",
       "    <tr>\n",
       "      <th>182</th>\n",
       "      <td>STADIUM AREA</td>\n",
       "      <td>core</td>\n",
       "      <td>POLYGON ((-43.22058 -22.92036, -43.22058 -22.9...</td>\n",
       "    </tr>\n",
       "  </tbody>\n",
       "</table>\n",
       "<p>183 rows × 3 columns</p>\n",
       "</div>"
      ],
      "text/plain": [
       "                     name  poly_type  \\\n",
       "ID                                     \n",
       "0            BELFORD ROXO  periphery   \n",
       "1    CACHOEIRAS DE MACACU  periphery   \n",
       "2         DUQUE DE CAXIAS  periphery   \n",
       "3              GUAPIMIRIM  periphery   \n",
       "4                ITABORAÍ  periphery   \n",
       "..                    ...        ...   \n",
       "178         Vila da Penha  periphery   \n",
       "179          Vista Alegre  periphery   \n",
       "180                 Zumbi  periphery   \n",
       "181            Água Santa  periphery   \n",
       "182          STADIUM AREA       core   \n",
       "\n",
       "                                              geometry  \n",
       "ID                                                      \n",
       "0    POLYGON ((-43.37030 -22.69426, -43.37009 -22.6...  \n",
       "1    POLYGON ((-42.79038 -22.37813, -42.78943 -22.3...  \n",
       "2    POLYGON ((-43.41519 -22.60109, -43.41566 -22.6...  \n",
       "3    POLYGON ((-42.95809 -22.46615, -42.95703 -22.4...  \n",
       "4    POLYGON ((-42.94340 -22.70671, -42.94301 -22.7...  \n",
       "..                                                 ...  \n",
       "178  POLYGON ((-43.31466 -22.84846, -43.31551 -22.8...  \n",
       "179  POLYGON ((-43.31923 -22.83183, -43.31931 -22.8...  \n",
       "180  POLYGON ((-43.17556 -22.82367, -43.17560 -22.8...  \n",
       "181  POLYGON ((-43.30348 -22.91473, -43.30400 -22.9...  \n",
       "182  POLYGON ((-43.22058 -22.92036, -43.22058 -22.9...  \n",
       "\n",
       "[183 rows x 3 columns]"
      ]
     },
     "execution_count": 204,
     "metadata": {},
     "output_type": "execute_result"
    }
   ],
   "source": [
    "final_map = final_map.reindex(columns=['ID','Name','Type', 'geometry'])\n",
    "final_map = final_map.drop('ID', axis=1)\n",
    "final_map = final_map.rename(columns={'Type': 'poly_type'})\n",
    "final_map = final_map.rename(columns={'Name': 'name'})\n",
    "final_map"
   ]
  },
  {
   "cell_type": "markdown",
   "id": "bb5618ea",
   "metadata": {},
   "source": [
    "## saving"
   ]
  },
  {
   "cell_type": "code",
   "execution_count": 205,
   "id": "f2b6a76b",
   "metadata": {},
   "outputs": [],
   "source": [
    "import os\n",
    "dir = '../../data/RIO DE JANEIRO MAPS/final_map'\n",
    "\n",
    "if not os.path.exists(dir): \n",
    "    os.makedirs(dir)\n",
    "#se essa pasta não existir, crio ela"
   ]
  },
  {
   "cell_type": "code",
   "execution_count": 206,
   "id": "b2b3c144",
   "metadata": {},
   "outputs": [],
   "source": [
    "final_map.to_file(dir + '/final_map2.geojson')"
   ]
  },
  {
   "cell_type": "code",
   "execution_count": 207,
   "id": "e141db86",
   "metadata": {},
   "outputs": [
    {
     "data": {
      "text/plain": [
       "name         0\n",
       "poly_type    0\n",
       "geometry     0\n",
       "dtype: int64"
      ]
     },
     "execution_count": 207,
     "metadata": {},
     "output_type": "execute_result"
    }
   ],
   "source": [
    "final_map.isnull().sum()"
   ]
  }
 ],
 "metadata": {
  "kernelspec": {
   "display_name": "Python 3 (ipykernel)",
   "language": "python",
   "name": "python3"
  },
  "language_info": {
   "codemirror_mode": {
    "name": "ipython",
    "version": 3
   },
   "file_extension": ".py",
   "mimetype": "text/x-python",
   "name": "python",
   "nbconvert_exporter": "python",
   "pygments_lexer": "ipython3",
   "version": "3.9.12"
  }
 },
 "nbformat": 4,
 "nbformat_minor": 5
}
